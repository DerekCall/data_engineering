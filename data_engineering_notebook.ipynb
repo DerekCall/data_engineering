{
 "cells": [
  {
   "cell_type": "code",
   "execution_count": 219,
   "metadata": {},
   "outputs": [],
   "source": [
    "from nba_api.stats.static  import players\n",
    "from nba_api.stats.static  import teams\n",
    "from nba_api.stats.endpoints import playergamelog\n",
    "from nba_api.stats.library.parameters import SeasonAll\n",
    "from nba_api.stats.endpoints import leaguegamefinder\n",
    "from nba_api.stats.endpoints import playbyplay\n",
    "\n",
    "import pandas as pd\n",
    "import numpy as np\n",
    "from sqlalchemy import create_engine\n",
    "from sqlalchemy import inspect\n",
    "import sqlite3\n",
    "\n",
    "\n",
    "\n"
   ]
  },
  {
   "cell_type": "code",
   "execution_count": null,
   "metadata": {},
   "outputs": [],
   "source": [
    "player_dict = players.get_players()\n",
    "player_df = pd.DataFrame(player_dict) #id, full_name, first_name, last_name, is_active"
   ]
  },
  {
   "cell_type": "code",
   "execution_count": 131,
   "metadata": {},
   "outputs": [],
   "source": [
    "teams=teams.get_teams()\n",
    "teams_df = pd.DataFrame(teams) #id, full_name, abbreviation, nickname, city, state, year_founded"
   ]
  },
  {
   "cell_type": "code",
   "execution_count": 190,
   "metadata": {},
   "outputs": [],
   "source": [
    "teams_df.to_csv('teams_df.csv', header = True, index = False)\n",
    "player_df.to_csv('player_df.csv', header = True, index = False)"
   ]
  },
  {
   "cell_type": "code",
   "execution_count": null,
   "metadata": {},
   "outputs": [],
   "source": []
  },
  {
   "cell_type": "code",
   "execution_count": 199,
   "metadata": {},
   "outputs": [],
   "source": [
    "merged_player_game_df = player_df.merge(player_all_games_df, left_on='id', right_on='Player_ID')"
   ]
  },
  {
   "cell_type": "code",
   "execution_count": 218,
   "metadata": {},
   "outputs": [],
   "source": [
    "merged_player_game_df.to_csv('merged_df.csv', header=False, index=False)"
   ]
  },
  {
   "cell_type": "code",
   "execution_count": 214,
   "metadata": {},
   "outputs": [],
   "source": [
    "clean_columns = []\n",
    "for i in merged_player_game_df.columns:\n",
    "    clean_columns.append(i.strip(\"'\"))"
   ]
  },
  {
   "cell_type": "code",
   "execution_count": null,
   "metadata": {},
   "outputs": [],
   "source": [
    "team_game_df = pd.concat(team_stats_game_df) "
   ]
  },
  {
   "cell_type": "code",
   "execution_count": null,
   "metadata": {},
   "outputs": [],
   "source": [
    "player_stats_all_games_list = [] #remember to clear out after a test to not double up"
   ]
  },
  {
   "cell_type": "code",
   "execution_count": 155,
   "metadata": {},
   "outputs": [],
   "source": [
    "\n",
    "for idx, player_id in enumerate(player_df['id']):\n",
    "        player_stats_all_games_list.append(\n",
    "            pd.DataFrame(((playergamelog.PlayerGameLog(player_id=player_id, season = SeasonAll.all)).get_data_frames())[0]))\n"
   ]
  },
  {
   "cell_type": "code",
   "execution_count": 158,
   "metadata": {},
   "outputs": [],
   "source": [
    "player_all_games_df = pd.concat(player_stats_all_games_list)"
   ]
  },
  {
   "cell_type": "code",
   "execution_count": 182,
   "metadata": {},
   "outputs": [],
   "source": [
    "player_all_games_df.to_csv('all_players_games.csv', header = False, index = False)"
   ]
  },
  {
   "cell_type": "code",
   "execution_count": 189,
   "metadata": {},
   "outputs": [],
   "source": [
    "player_all_games_df.to_csv('all_players_games_w_headers.csv', header = True, index = False)"
   ]
  },
  {
   "cell_type": "code",
   "execution_count": null,
   "metadata": {},
   "outputs": [],
   "source": []
  },
  {
   "cell_type": "code",
   "execution_count": null,
   "metadata": {},
   "outputs": [],
   "source": []
  },
  {
   "cell_type": "code",
   "execution_count": null,
   "metadata": {},
   "outputs": [],
   "source": []
  },
  {
   "cell_type": "markdown",
   "metadata": {},
   "source": [
    "## Code used in terminal for sqlite table creation and csv import"
   ]
  },
  {
   "cell_type": "code",
   "execution_count": null,
   "metadata": {},
   "outputs": [],
   "source": [
    "# sqlite3 full_nba_data.db\n",
    "\n",
    "# CREATE TABLE nba_all_games (id INTEGER, full_name TEXT, first_name TEXT, last_name TEXT, is_active BOOL, \\\n",
    "#                             SEASON_ID INTEGER, Player_ID INTEGER, Game_ID INTEGER, GAME_DATE DATE, MATCHUP TEXT, \\\n",
    "#                             WL TEXT, MIN INTEGER, FGM INTEGER, FGA INTEGER, FG_PCT FLOAT, FG3M INTEGER, \\\n",
    "#                             FG3A INTEGER, FG3_PCT FLOAT, FTM INTEGER, FTA INTEGER, FT_PCT FLOAT, OREB INTEGER, \\\n",
    "#                             DREB INTEGER, REB INTEGER, AST INTEGER, STL INTEGER, BLK INTEGER, TOV INTEGER, \\\n",
    "#                             PF INTEGER, PTS INTEGER, PLUS_MINUS INTEGER, VIDEO_AVAILABLE BOOL, \\\n",
    "#                             PRIMARY KEY (id, Game_ID))\n",
    "\n",
    "# sqlite> .mode csv\n",
    "# sqlite> .import c:/sqlite/merged_df.csv"
   ]
  },
  {
   "cell_type": "markdown",
   "metadata": {},
   "source": [
    "## This code would be run to download additional seasons as pandas df to then be added to existing database"
   ]
  },
  {
   "cell_type": "code",
   "execution_count": null,
   "metadata": {},
   "outputs": [],
   "source": [
    "# season_to_download = '2021'\n",
    "# new_additions = []\n",
    "# for idx, player_id in enumerate(player_df['id']):\n",
    "#         new_additions.append(\n",
    "#             pd.DataFrame(((playergamelog.PlayerGameLog(player_id=player_id, season = season_to_download)).get_data_frames())[0]))\n",
    "\n",
    "# new_additions_df = pd.concat(new_additions)"
   ]
  }
 ],
 "metadata": {
  "kernelspec": {
   "display_name": "Python 3",
   "language": "python",
   "name": "python3"
  },
  "language_info": {
   "codemirror_mode": {
    "name": "ipython",
    "version": 3
   },
   "file_extension": ".py",
   "mimetype": "text/x-python",
   "name": "python",
   "nbconvert_exporter": "python",
   "pygments_lexer": "ipython3",
   "version": "3.8.5"
  }
 },
 "nbformat": 4,
 "nbformat_minor": 4
}
